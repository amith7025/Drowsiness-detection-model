{
 "cells": [
  {
   "cell_type": "code",
   "execution_count": 1,
   "id": "85b8c5ea-df18-41ec-85ef-cf62c4a79296",
   "metadata": {},
   "outputs": [
    {
     "name": "stderr",
     "output_type": "stream",
     "text": [
      "Cloning into 'yolov5'...\n"
     ]
    }
   ],
   "source": [
    "!git clone https://github.com/ultralytics/yolov5.git"
   ]
  },
  {
   "cell_type": "code",
   "execution_count": 2,
   "id": "a12601e8-b4f9-4912-92f1-dc6cbe2da5b1",
   "metadata": {},
   "outputs": [
    {
     "name": "stdout",
     "output_type": "stream",
     "text": [
      "Requirement already satisfied: gitpython>=3.1.30 in c:\\users\\amith\\envs\\workshop\\lib\\site-packages (from -r requirements.txt (line 5)) (3.1.34)\n",
      "Requirement already satisfied: matplotlib>=3.3 in c:\\users\\amith\\envs\\workshop\\lib\\site-packages (from -r requirements.txt (line 6)) (3.7.2)\n",
      "Requirement already satisfied: numpy>=1.22.2 in c:\\users\\amith\\envs\\workshop\\lib\\site-packages (from -r requirements.txt (line 7)) (1.25.2)\n",
      "Requirement already satisfied: opencv-python>=4.1.1 in c:\\users\\amith\\envs\\workshop\\lib\\site-packages (from -r requirements.txt (line 8)) (4.8.0.74)\n",
      "Requirement already satisfied: Pillow>=7.1.2 in c:\\users\\amith\\envs\\workshop\\lib\\site-packages (from -r requirements.txt (line 9)) (9.5.0)\n",
      "Requirement already satisfied: psutil in c:\\users\\amith\\envs\\workshop\\lib\\site-packages (from -r requirements.txt (line 10)) (5.9.5)\n",
      "Requirement already satisfied: PyYAML>=5.3.1 in c:\\users\\amith\\envs\\workshop\\lib\\site-packages (from -r requirements.txt (line 11)) (6.0.1)\n",
      "Requirement already satisfied: requests>=2.23.0 in c:\\users\\amith\\envs\\workshop\\lib\\site-packages (from -r requirements.txt (line 12)) (2.31.0)\n",
      "Requirement already satisfied: scipy>=1.4.1 in c:\\users\\amith\\envs\\workshop\\lib\\site-packages (from -r requirements.txt (line 13)) (1.11.1)\n",
      "Requirement already satisfied: thop>=0.1.1 in c:\\users\\amith\\envs\\workshop\\lib\\site-packages (from -r requirements.txt (line 14)) (0.1.1.post2209072238)\n",
      "Requirement already satisfied: torch>=1.8.0 in c:\\users\\amith\\envs\\workshop\\lib\\site-packages (from -r requirements.txt (line 15)) (2.0.1)\n",
      "Requirement already satisfied: torchvision>=0.9.0 in c:\\users\\amith\\envs\\workshop\\lib\\site-packages (from -r requirements.txt (line 16)) (0.15.2)\n",
      "Requirement already satisfied: tqdm>=4.64.0 in c:\\users\\amith\\envs\\workshop\\lib\\site-packages (from -r requirements.txt (line 17)) (4.65.0)\n",
      "Requirement already satisfied: ultralytics>=8.0.147 in c:\\users\\amith\\envs\\workshop\\lib\\site-packages (from -r requirements.txt (line 18)) (8.0.171)\n",
      "Requirement already satisfied: pandas>=1.1.4 in c:\\users\\amith\\envs\\workshop\\lib\\site-packages (from -r requirements.txt (line 27)) (2.0.3)\n",
      "Requirement already satisfied: seaborn>=0.11.0 in c:\\users\\amith\\envs\\workshop\\lib\\site-packages (from -r requirements.txt (line 28)) (0.12.2)\n",
      "Requirement already satisfied: setuptools>=65.5.1 in c:\\users\\amith\\envs\\workshop\\lib\\site-packages (from -r requirements.txt (line 42)) (68.0.0)\n",
      "Requirement already satisfied: gitdb<5,>=4.0.1 in c:\\users\\amith\\envs\\workshop\\lib\\site-packages (from gitpython>=3.1.30->-r requirements.txt (line 5)) (4.0.10)\n",
      "Requirement already satisfied: contourpy>=1.0.1 in c:\\users\\amith\\envs\\workshop\\lib\\site-packages (from matplotlib>=3.3->-r requirements.txt (line 6)) (1.1.0)\n",
      "Requirement already satisfied: cycler>=0.10 in c:\\users\\amith\\envs\\workshop\\lib\\site-packages (from matplotlib>=3.3->-r requirements.txt (line 6)) (0.10.0)\n",
      "Requirement already satisfied: fonttools>=4.22.0 in c:\\users\\amith\\envs\\workshop\\lib\\site-packages (from matplotlib>=3.3->-r requirements.txt (line 6)) (4.42.0)\n",
      "Requirement already satisfied: kiwisolver>=1.0.1 in c:\\users\\amith\\envs\\workshop\\lib\\site-packages (from matplotlib>=3.3->-r requirements.txt (line 6)) (1.4.4)\n",
      "Requirement already satisfied: packaging>=20.0 in c:\\users\\amith\\envs\\workshop\\lib\\site-packages (from matplotlib>=3.3->-r requirements.txt (line 6)) (23.1)\n",
      "Requirement already satisfied: pyparsing<3.1,>=2.3.1 in c:\\users\\amith\\envs\\workshop\\lib\\site-packages (from matplotlib>=3.3->-r requirements.txt (line 6)) (2.4.7)\n",
      "Requirement already satisfied: python-dateutil>=2.7 in c:\\users\\amith\\envs\\workshop\\lib\\site-packages (from matplotlib>=3.3->-r requirements.txt (line 6)) (2.8.2)\n",
      "Requirement already satisfied: charset-normalizer<4,>=2 in c:\\users\\amith\\envs\\workshop\\lib\\site-packages (from requests>=2.23.0->-r requirements.txt (line 12)) (3.2.0)\n",
      "Requirement already satisfied: idna<4,>=2.5 in c:\\users\\amith\\envs\\workshop\\lib\\site-packages (from requests>=2.23.0->-r requirements.txt (line 12)) (2.10)\n",
      "Requirement already satisfied: urllib3<3,>=1.21.1 in c:\\users\\amith\\envs\\workshop\\lib\\site-packages (from requests>=2.23.0->-r requirements.txt (line 12)) (1.26.16)\n",
      "Requirement already satisfied: certifi>=2017.4.17 in c:\\users\\amith\\envs\\workshop\\lib\\site-packages (from requests>=2.23.0->-r requirements.txt (line 12)) (2022.12.7)\n",
      "Requirement already satisfied: filelock in c:\\users\\amith\\envs\\workshop\\lib\\site-packages (from torch>=1.8.0->-r requirements.txt (line 15)) (3.12.2)\n",
      "Requirement already satisfied: typing-extensions in c:\\users\\amith\\envs\\workshop\\lib\\site-packages (from torch>=1.8.0->-r requirements.txt (line 15)) (4.7.1)\n",
      "Requirement already satisfied: sympy in c:\\users\\amith\\envs\\workshop\\lib\\site-packages (from torch>=1.8.0->-r requirements.txt (line 15)) (1.12)\n",
      "Requirement already satisfied: networkx in c:\\users\\amith\\envs\\workshop\\lib\\site-packages (from torch>=1.8.0->-r requirements.txt (line 15)) (3.1)\n",
      "Requirement already satisfied: jinja2 in c:\\users\\amith\\envs\\workshop\\lib\\site-packages (from torch>=1.8.0->-r requirements.txt (line 15)) (3.1.2)\n",
      "Requirement already satisfied: colorama in c:\\users\\amith\\envs\\workshop\\lib\\site-packages (from tqdm>=4.64.0->-r requirements.txt (line 17)) (0.4.6)\n",
      "Requirement already satisfied: py-cpuinfo in c:\\users\\amith\\envs\\workshop\\lib\\site-packages (from ultralytics>=8.0.147->-r requirements.txt (line 18)) (9.0.0)\n",
      "Requirement already satisfied: pytz>=2020.1 in c:\\users\\amith\\envs\\workshop\\lib\\site-packages (from pandas>=1.1.4->-r requirements.txt (line 27)) (2023.3)\n",
      "Requirement already satisfied: tzdata>=2022.1 in c:\\users\\amith\\envs\\workshop\\lib\\site-packages (from pandas>=1.1.4->-r requirements.txt (line 27)) (2023.3)\n",
      "Requirement already satisfied: six in c:\\users\\amith\\envs\\workshop\\lib\\site-packages (from cycler>=0.10->matplotlib>=3.3->-r requirements.txt (line 6)) (1.16.0)\n",
      "Requirement already satisfied: smmap<6,>=3.0.1 in c:\\users\\amith\\envs\\workshop\\lib\\site-packages (from gitdb<5,>=4.0.1->gitpython>=3.1.30->-r requirements.txt (line 5)) (5.0.0)\n",
      "Requirement already satisfied: MarkupSafe>=2.0 in c:\\users\\amith\\envs\\workshop\\lib\\site-packages (from jinja2->torch>=1.8.0->-r requirements.txt (line 15)) (2.1.3)\n",
      "Requirement already satisfied: mpmath>=0.19 in c:\\users\\amith\\envs\\workshop\\lib\\site-packages (from sympy->torch>=1.8.0->-r requirements.txt (line 15)) (1.3.0)\n"
     ]
    }
   ],
   "source": [
    "!cd yolov5 & pip install -r requirements.txt"
   ]
  },
  {
   "cell_type": "code",
   "execution_count": 3,
   "id": "642ddf58-ba93-4c2e-b422-7c7c0ef13e1c",
   "metadata": {},
   "outputs": [
    {
     "name": "stderr",
     "output_type": "stream",
     "text": [
      "Cloning into 'labelImg'...\n"
     ]
    }
   ],
   "source": [
    "!git clone https://github.com/HumanSignal/labelImg"
   ]
  },
  {
   "cell_type": "code",
   "execution_count": 4,
   "id": "474a0fb9-1d05-4e4b-9e9d-c34cc876c980",
   "metadata": {},
   "outputs": [
    {
     "name": "stdout",
     "output_type": "stream",
     "text": [
      "Requirement already satisfied: pyqt5 in c:\\users\\amith\\envs\\workshop\\lib\\site-packages (5.15.9)\n",
      "Requirement already satisfied: lxml in c:\\users\\amith\\envs\\workshop\\lib\\site-packages (4.9.3)\n",
      "Requirement already satisfied: PyQt5-sip<13,>=12.11 in c:\\users\\amith\\envs\\workshop\\lib\\site-packages (from pyqt5) (12.12.2)\n",
      "Requirement already satisfied: PyQt5-Qt5>=5.15.2 in c:\\users\\amith\\envs\\workshop\\lib\\site-packages (from pyqt5) (5.15.2)\n"
     ]
    }
   ],
   "source": [
    "!pip install pyqt5 lxml\n",
    "!cd labelImg && pyrcc5 -o libs/resources.py resources.qrc"
   ]
  }
 ],
 "metadata": {
  "kernelspec": {
   "display_name": "Python 3 (ipykernel)",
   "language": "python",
   "name": "python3"
  },
  "language_info": {
   "codemirror_mode": {
    "name": "ipython",
    "version": 3
   },
   "file_extension": ".py",
   "mimetype": "text/x-python",
   "name": "python",
   "nbconvert_exporter": "python",
   "pygments_lexer": "ipython3",
   "version": "3.11.4"
  }
 },
 "nbformat": 4,
 "nbformat_minor": 5
}
